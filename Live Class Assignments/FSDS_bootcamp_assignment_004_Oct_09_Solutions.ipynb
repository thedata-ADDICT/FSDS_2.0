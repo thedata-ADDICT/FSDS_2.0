{
  "nbformat": 4,
  "nbformat_minor": 0,
  "metadata": {
    "colab": {
      "provenance": [],
      "collapsed_sections": []
    },
    "kernelspec": {
      "name": "python3",
      "display_name": "Python 3"
    },
    "language_info": {
      "name": "python"
    }
  },
  "cells": [
    {
      "cell_type": "markdown",
      "source": [
        "# Question 1"
      ],
      "metadata": {
        "id": "2-EqdcW4dhrC"
      }
    },
    {
      "cell_type": "code",
      "execution_count": 5,
      "metadata": {
        "colab": {
          "base_uri": "https://localhost:8080/"
        },
        "id": "jpU0TsBpb5nI",
        "outputId": "1ec2a00a-048b-48a6-8113-618762b5f811"
      },
      "outputs": [
        {
          "output_type": "stream",
          "name": "stdout",
          "text": [
            "Largest Number among the Given List of Numbers is : 525\n"
          ]
        }
      ],
      "source": [
        "numbers = [12, 75, 150, 180, 145, 525, 50,]\n",
        "for i in range(len(numbers)-1):\n",
        "  if(numbers[i]>numbers[i+1]):\n",
        "    max=numbers[i]\n",
        "print(f'Largest Number among the Given List of Numbers is : {max}')"
      ]
    },
    {
      "cell_type": "markdown",
      "source": [
        "# Question 2"
      ],
      "metadata": {
        "id": "RQlLIiNkfAjC"
      }
    },
    {
      "cell_type": "code",
      "source": [
        "for i in range(1,12):\n",
        "  if(i%2==0):\n",
        "    print(f'{i} is a Even Number')"
      ],
      "metadata": {
        "colab": {
          "base_uri": "https://localhost:8080/"
        },
        "id": "2PTl1AEUeIhz",
        "outputId": "f329cc15-3b83-49a7-b7b8-af95fa8eef95"
      },
      "execution_count": 6,
      "outputs": [
        {
          "output_type": "stream",
          "name": "stdout",
          "text": [
            "2 is a Even Number\n",
            "4 is a Even Number\n",
            "6 is a Even Number\n",
            "8 is a Even Number\n",
            "10 is a Even Number\n"
          ]
        }
      ]
    },
    {
      "cell_type": "markdown",
      "source": [
        "# Question 3"
      ],
      "metadata": {
        "id": "64I0BEXsfucX"
      }
    },
    {
      "cell_type": "code",
      "source": [
        "num=int(input(\"Enter a Number : \"))\n",
        "sum=0\n",
        "for i in range(num+1):\n",
        "  sum+=i\n",
        "print(f'Sum of all Numbers from 1 to {num} is equal to {sum}')"
      ],
      "metadata": {
        "colab": {
          "base_uri": "https://localhost:8080/"
        },
        "id": "giO6fQBTfRyg",
        "outputId": "fb41836c-97cf-405c-aa0d-220cb4b258f4"
      },
      "execution_count": 8,
      "outputs": [
        {
          "output_type": "stream",
          "name": "stdout",
          "text": [
            "Enter a Number : 10\n",
            "Sum of all Numbers from 1 to 10 is equal to 55\n"
          ]
        }
      ]
    },
    {
      "cell_type": "markdown",
      "source": [
        "# Question 4"
      ],
      "metadata": {
        "id": "ydIrjkRGgO2o"
      }
    },
    {
      "cell_type": "code",
      "source": [
        "numbers=[12,75,150,180,145,525,50]\n",
        "for i in numbers:\n",
        "  if(i>500):\n",
        "    print(f'Encounterd a Number Greater than 500 in the List , hence stopping the Loop')\n",
        "    break\n",
        "  elif(i>150):\n",
        "    print(f'The Number found in current iteration is {i} which is Greater than 150 , hence moving the Loop to Next iteration')\n",
        "  elif(i%5==0):\n",
        "    print(f'{i} is Divisible by 5')"
      ],
      "metadata": {
        "colab": {
          "base_uri": "https://localhost:8080/"
        },
        "id": "YCu6oogTgIji",
        "outputId": "f21a864c-4ba9-4158-a8e3-a558c371461d"
      },
      "execution_count": 12,
      "outputs": [
        {
          "output_type": "stream",
          "name": "stdout",
          "text": [
            "75 is Divisible by 5\n",
            "150 is Divisible by 5\n",
            "The Number found in current iteration is 180 which is Greater than 150 , hence moving the Loop to Next iteration\n",
            "145 is Divisible by 5\n",
            "Encounterd a Number Greater than 500 in the List , hence stopping the Loop\n"
          ]
        }
      ]
    },
    {
      "cell_type": "markdown",
      "source": [
        "# Question 5"
      ],
      "metadata": {
        "id": "8dKIEug2hX-6"
      }
    },
    {
      "cell_type": "code",
      "source": [
        "l=[10,20,30,40,50]\n",
        "print(f'List Before Reversal : {l}')\n",
        "print(f'List After Reversal  : {l[::-1]}')"
      ],
      "metadata": {
        "colab": {
          "base_uri": "https://localhost:8080/"
        },
        "id": "j8UvBHcRglKu",
        "outputId": "d830f696-010a-452d-d772-d61992c75376"
      },
      "execution_count": 17,
      "outputs": [
        {
          "output_type": "stream",
          "name": "stdout",
          "text": [
            "List Before Reversal : [10, 20, 30, 40, 50]\n",
            "List After Reversal  : [50, 40, 30, 20, 10]\n"
          ]
        }
      ]
    },
    {
      "cell_type": "code",
      "source": [],
      "metadata": {
        "id": "_vquZeu0hmau"
      },
      "execution_count": null,
      "outputs": []
    }
  ]
}