{
 "cells": [
  {
   "cell_type": "code",
   "execution_count": 28,
   "id": "8c97d34d",
   "metadata": {},
   "outputs": [
    {
     "data": {
      "text/plain": [
       "6"
      ]
     },
     "execution_count": 28,
     "metadata": {},
     "output_type": "execute_result"
    }
   ],
   "source": [
    "# Question 1\n",
    "\n",
    "def lenstring(s):\n",
    "    c=0\n",
    "    for i in s:\n",
    "        c+=1\n",
    "    return c \n",
    "\n",
    "lenstring('Kartik')"
   ]
  },
  {
   "cell_type": "code",
   "execution_count": 32,
   "id": "b60d6236",
   "metadata": {},
   "outputs": [
    {
     "name": "stdout",
     "output_type": "stream",
     "text": [
      "The Element 6 is present at [5, 6]\n"
     ]
    }
   ],
   "source": [
    "# Question 2\n",
    "\n",
    "def elementindex(l,e):\n",
    "    '''This function takes 2 argument , a list and element whose index needs to be found . \n",
    "    This functions returns a list which containes all the indexex\n",
    "    where the elemnt to be searched is present '''\n",
    "    indexes=[]\n",
    "    c=-1\n",
    "    for i in l:\n",
    "        c+=1\n",
    "        if(i==e):\n",
    "            indexes.append(c)\n",
    "    print(f'The Element {e} is present at {indexes}')\n",
    "\n",
    "elementindex([1,2,3,4,5,6,6],6)"
   ]
  },
  {
   "cell_type": "code",
   "execution_count": 33,
   "id": "ccfb05d2",
   "metadata": {},
   "outputs": [
    {
     "name": "stdout",
     "output_type": "stream",
     "text": [
      "Hostname of the System   : LAPTOP-BOUI5KG6\n",
      "IP Address of the System : 192.168.1.8\n"
     ]
    }
   ],
   "source": [
    "# Question 3\n",
    "\n",
    "# Importing Socket Module \n",
    "import socket as S\n",
    "# Using socket.gethostname() method to find th hostname of system\n",
    "hostname = S.gethostname()\n",
    "# Using socket.gethostbyname() method to find the IP Address of the system\n",
    "ip_address = S.gethostbyname(hostname)\n",
    "\n",
    "print(f\"Hostname of the System   : {hostname}\")\n",
    "print(f\"IP Address of the System : {ip_address}\")"
   ]
  },
  {
   "cell_type": "code",
   "execution_count": null,
   "id": "acc22786",
   "metadata": {},
   "outputs": [],
   "source": [
    "# Question 4\n",
    "\n",
    "import os\n",
    "def shutdown():\n",
    "    i=input(\"Press Y to Shutdown\").upper()\n",
    "    if(i=='Y'):\n",
    "        os.system(\"shutdown /s /t 1\")\n",
    "    else:\n",
    "        exit()"
   ]
  },
  {
   "cell_type": "code",
   "execution_count": 34,
   "id": "312ad2dc",
   "metadata": {},
   "outputs": [
    {
     "name": "stdout",
     "output_type": "stream",
     "text": [
      "Product of all numeric elements from the list is equal to 1365.0\n"
     ]
    }
   ],
   "source": [
    "# Question 5\n",
    "\n",
    "l=[3.5,6.5,6,'fsds','sudh','ineuron',10]\n",
    "res=1\n",
    "for i in l:\n",
    "    if ((type(i)==int) or (type(i)==float)):\n",
    "        res*=i\n",
    "print(f'Product of all numeric elements from the list is equal to {res}')"
   ]
  },
  {
   "cell_type": "code",
   "execution_count": null,
   "id": "c4613cb1",
   "metadata": {},
   "outputs": [],
   "source": [
    "# Question 6\n",
    "\n",
    "def read_file(file):\n",
    "    f=open(file,\"r\")\n",
    "    l=len(f.readlines())\n",
    "    print(l)\n",
    "    f.seek(0)\n",
    "    for i in range(1,l+1):\n",
    "        print(f.readline())"
   ]
  },
  {
   "cell_type": "code",
   "execution_count": null,
   "id": "b81ebd14",
   "metadata": {},
   "outputs": [],
   "source": [
    "# Question 7\n",
    "\n",
    "import smtplib\n",
    "\n",
    "# creates SMTP session\n",
    "s = smtplib.SMTP('smtp.gmail.com', 587)\n",
    "\n",
    "# start TLS for security\n",
    "s.starttls()\n",
    "\n",
    "# Authentication\n",
    "s.login(\"p.kartik.0011@gmail.com\", \"URkartik1@\")\n",
    "\n",
    "# message to be sent\n",
    "message = \"This is a test message\"\n",
    "\n",
    "# sending the mail\n",
    "s.sendmail(\"p.kartik.0011@gmail.com\", \"p.kartik.0011@gmail.com\", message)\n",
    "\n",
    "# terminating the session\n",
    "s.quit()"
   ]
  }
 ],
 "metadata": {
  "kernelspec": {
   "display_name": "Python 3 (ipykernel)",
   "language": "python",
   "name": "python3"
  },
  "language_info": {
   "codemirror_mode": {
    "name": "ipython",
    "version": 3
   },
   "file_extension": ".py",
   "mimetype": "text/x-python",
   "name": "python",
   "nbconvert_exporter": "python",
   "pygments_lexer": "ipython3",
   "version": "3.9.7"
  }
 },
 "nbformat": 4,
 "nbformat_minor": 5
}
