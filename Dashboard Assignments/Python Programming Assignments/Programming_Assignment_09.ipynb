{
  "nbformat": 4,
  "nbformat_minor": 0,
  "metadata": {
    "colab": {
      "provenance": []
    },
    "kernelspec": {
      "name": "python3",
      "display_name": "Python 3"
    },
    "language_info": {
      "name": "python"
    }
  },
  "cells": [
    {
      "cell_type": "markdown",
      "source": [
        "##ASSIGNMENT"
      ],
      "metadata": {
        "id": "jcx8vleF3Ke1"
      }
    },
    {
      "cell_type": "markdown",
      "source": [
        "1. Write a Python program to check if the given number is a Disarium Number?"
      ],
      "metadata": {
        "id": "-j3EZB_o3M_l"
      }
    },
    {
      "cell_type": "code",
      "source": [
        "num = int(input(\"Enter a number\"))\n",
        "temp=num\n",
        "sum=0\n",
        "count=len(str(num))\n",
        "while(temp>0):\n",
        "  n=temp%10\n",
        "  temp=temp//10\n",
        "  sum=sum+(n**count)\n",
        "  count=count-1\n",
        "\n",
        "if(sum==num):\n",
        "  print(f\"{num} is a Disarium number\")\n",
        "else:\n",
        "  print(f\"{num} is not a Disarium number\")\n"
      ],
      "metadata": {
        "id": "KiJC8ACY3jKA"
      },
      "execution_count": null,
      "outputs": []
    },
    {
      "cell_type": "markdown",
      "source": [
        "2. Write a Python program to print all disarium numbers between 1 to 100?"
      ],
      "metadata": {
        "id": "TNZOib5N3TjZ"
      }
    },
    {
      "cell_type": "code",
      "source": [
        "for i in range(1,101):\n",
        "  count=len(str(i))\n",
        "  sum=0\n",
        "  temp=i\n",
        "  while(temp>0):\n",
        "    n=temp%10\n",
        "    temp=temp//10\n",
        "    sum=sum+(n**count)\n",
        "    count=count-1\n",
        "  if(sum==i):\n",
        "   print(f\"{i} is a Disarium number\")\n",
        "  \n"
      ],
      "metadata": {
        "id": "Yvb-MG4X62q4"
      },
      "execution_count": null,
      "outputs": []
    },
    {
      "cell_type": "markdown",
      "source": [
        "3. Write a Python program to check if the given number is Happy Number?"
      ],
      "metadata": {
        "id": "opIlN4DD3ZNO"
      }
    },
    {
      "cell_type": "code",
      "source": [
        "num=int(input(\"Enter a number \"))\n",
        "temp=num\n",
        "while(1):\n",
        "  sum=0\n",
        "  while(temp>0):\n",
        "   s=temp%10\n",
        "   temp=temp//10\n",
        "   sum=sum+(s**2)\n",
        "\n",
        "  if(sum==1):\n",
        "    print(\"Happy number\")\n",
        "    break\n",
        "  elif(sum==4):\n",
        "    print(\" not happy number\")\n",
        "    break\n",
        "  else:\n",
        "    temp=sum\n",
        "\n",
        "\n"
      ],
      "metadata": {
        "id": "40DL3EWp-jdB"
      },
      "execution_count": null,
      "outputs": []
    },
    {
      "cell_type": "markdown",
      "source": [
        "4. Write a Python program to print all happy numbers between 1 and 100?"
      ],
      "metadata": {
        "id": "OBEWgr8X3bf6"
      }
    },
    {
      "cell_type": "code",
      "source": [
        "for i in range(1,101):\n",
        "  temp=i\n",
        "  while(1):\n",
        "    sum=0\n",
        "    while(temp>0):\n",
        "      s=temp%10\n",
        "      temp=temp//10\n",
        "      sum=sum+(s**2)\n",
        "\n",
        "    if(sum==1):\n",
        "      print(f\"{i} is Happy num\")\n",
        "      break\n",
        "    elif(sum==4):\n",
        "      break\n",
        "    else:\n",
        "      temp=sum "
      ],
      "metadata": {
        "id": "3xwhrLca9yH2"
      },
      "execution_count": null,
      "outputs": []
    },
    {
      "cell_type": "markdown",
      "source": [
        "5. Write a Python program to determine whether the given number is a Harshad Number?"
      ],
      "metadata": {
        "id": "SRD286RM3eQH"
      }
    },
    {
      "cell_type": "code",
      "source": [
        "num=int(input(\"Enter a number \"))\n",
        "sum=0\n",
        "temp=num\n",
        "while(temp>0):\n",
        "  s=temp%10\n",
        "  temp=temp//10\n",
        "  sum=sum+s\n",
        "\n",
        "if((num%sum)==0):\n",
        "  print(f\"{num} is a Harshad number\")\n",
        "else:\n",
        "  print(f\"{num} is not a Harshad number\")"
      ],
      "metadata": {
        "id": "bVnYHkLM_r1h"
      },
      "execution_count": null,
      "outputs": []
    },
    {
      "cell_type": "markdown",
      "source": [
        "6. Write a Python program to print all pronic numbers between 1 and 100?\n"
      ],
      "metadata": {
        "id": "sOT_0ID-3hgy"
      }
    },
    {
      "cell_type": "code",
      "source": [
        "for i in range(1,101):\n",
        "  sum=0\n",
        "  temp=i\n",
        "  while(temp>0):\n",
        "    s=temp%10\n",
        "    temp=temp//10\n",
        "    sum=sum+s\n",
        "\n",
        "  if((i%sum)==0):\n",
        "    print(f\"{i} is a Harshad Number\")\n",
        "    "
      ],
      "metadata": {
        "id": "5bno3ufj3MEG"
      },
      "execution_count": null,
      "outputs": []
    },
    {
      "cell_type": "code",
      "source": [],
      "metadata": {
        "id": "Dqe9UhONKweo"
      },
      "execution_count": null,
      "outputs": []
    }
  ]
}