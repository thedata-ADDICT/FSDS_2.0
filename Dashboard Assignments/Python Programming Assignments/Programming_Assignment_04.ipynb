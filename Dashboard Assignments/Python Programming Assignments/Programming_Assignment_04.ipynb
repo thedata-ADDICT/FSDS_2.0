{
 "cells": [
  {
   "cell_type": "code",
   "execution_count": 1,
   "id": "9844a0d0",
   "metadata": {},
   "outputs": [],
   "source": [
    "# Question No 1"
   ]
  },
  {
   "cell_type": "code",
   "execution_count": 6,
   "id": "82d19885",
   "metadata": {},
   "outputs": [],
   "source": [
    "def fact(n):\n",
    "    if(n==0):\n",
    "        return 0\n",
    "    elif(n==1):\n",
    "        return 1\n",
    "    else:\n",
    "        return n*fact(n-1)"
   ]
  },
  {
   "cell_type": "code",
   "execution_count": 7,
   "id": "7f88bb95",
   "metadata": {},
   "outputs": [
    {
     "data": {
      "text/plain": [
       "120"
      ]
     },
     "execution_count": 7,
     "metadata": {},
     "output_type": "execute_result"
    }
   ],
   "source": [
    "fact(5)"
   ]
  },
  {
   "cell_type": "code",
   "execution_count": 8,
   "id": "a23731dd",
   "metadata": {},
   "outputs": [],
   "source": [
    "# Question no 2"
   ]
  },
  {
   "cell_type": "code",
   "execution_count": 9,
   "id": "de608dbb",
   "metadata": {},
   "outputs": [
    {
     "name": "stdout",
     "output_type": "stream",
     "text": [
      "Enter a Number : 5\n",
      "5 x 1 = 5\n",
      "5 x 2 = 10\n",
      "5 x 3 = 15\n",
      "5 x 4 = 20\n",
      "5 x 5 = 25\n",
      "5 x 6 = 30\n",
      "5 x 7 = 35\n",
      "5 x 8 = 40\n",
      "5 x 9 = 45\n",
      "5 x 10 = 50\n"
     ]
    }
   ],
   "source": [
    "num=int(input(\"Enter a Number : \"))\n",
    "for i in range(1,11):\n",
    "    print(f'{num} x {i} = {num*i}')"
   ]
  },
  {
   "cell_type": "code",
   "execution_count": 10,
   "id": "4fcabe15",
   "metadata": {},
   "outputs": [],
   "source": [
    "# Question no 3"
   ]
  },
  {
   "cell_type": "code",
   "execution_count": 27,
   "id": "465c88c6",
   "metadata": {},
   "outputs": [],
   "source": [
    "def fibonacci(num):\n",
    "    if(num==0):\n",
    "        return 0\n",
    "    elif(num==1):\n",
    "        return 1\n",
    "    else:\n",
    "        return (fibonacci(num-1) + fibonacci(num-2))"
   ]
  },
  {
   "cell_type": "code",
   "execution_count": 29,
   "id": "397ac260",
   "metadata": {},
   "outputs": [
    {
     "name": "stdout",
     "output_type": "stream",
     "text": [
      "Enter a Number : 10\n",
      "0 1 1 2 3 5 8 13 21 34 "
     ]
    }
   ],
   "source": [
    "num=int(input(\"Enter a Number : \"))\n",
    "if(num<0):\n",
    "    print(\"Enter a Positive Number \")\n",
    "else:\n",
    "    for i in range(num):\n",
    "        print(fibonacci(i), end=\" \")"
   ]
  },
  {
   "cell_type": "code",
   "execution_count": 30,
   "id": "7e68e21d",
   "metadata": {},
   "outputs": [],
   "source": [
    "# Question No 4"
   ]
  },
  {
   "cell_type": "code",
   "execution_count": 33,
   "id": "e9f8f549",
   "metadata": {},
   "outputs": [
    {
     "name": "stdout",
     "output_type": "stream",
     "text": [
      "Enter a Number : 153\n",
      "The Number 153 is Armstrong Number\n"
     ]
    }
   ],
   "source": [
    "num=int(input(\"Enter a Number : \"))\n",
    "x=num\n",
    "res=0\n",
    "while(num!=0):\n",
    "    t=num%10\n",
    "    res+=t*t*t\n",
    "    num=num//10\n",
    "if(res==x):\n",
    "    print(f'The Number {x} is Armstrong Number')\n",
    "else:\n",
    "    print(f'The Number {x} is not a Armstrong Number')  "
   ]
  },
  {
   "cell_type": "code",
   "execution_count": 34,
   "id": "8e3d3f91",
   "metadata": {},
   "outputs": [],
   "source": [
    "# Question No 5"
   ]
  },
  {
   "cell_type": "code",
   "execution_count": 41,
   "id": "5d230164",
   "metadata": {},
   "outputs": [
    {
     "name": "stdout",
     "output_type": "stream",
     "text": [
      "Enter a Number : 200\n",
      "The Number 1 is Armstrong Number\n",
      "The Number 153 is Armstrong Number\n"
     ]
    }
   ],
   "source": [
    "num=int(input(\"Enter a Number : \"))\n",
    "for i in range(1,num+1):\n",
    "    x=i\n",
    "    res=0\n",
    "    while(i!=0):\n",
    "        t=i%10\n",
    "        res+=t*t*t\n",
    "        i=i//10\n",
    "    if(res==x):\n",
    "        print(f'The Number {x} is Armstrong Number')"
   ]
  },
  {
   "cell_type": "code",
   "execution_count": 42,
   "id": "033fc391",
   "metadata": {},
   "outputs": [],
   "source": [
    "# Question No 6"
   ]
  },
  {
   "cell_type": "code",
   "execution_count": 43,
   "id": "26a4fa8b",
   "metadata": {},
   "outputs": [
    {
     "name": "stdout",
     "output_type": "stream",
     "text": [
      "Enter a Number : 10\n",
      "Sum of Natural Numbers from 1 to 10 is equal to 45 \n"
     ]
    }
   ],
   "source": [
    "num=int(input(\"Enter a Number : \"))\n",
    "sum=0\n",
    "for i in range(1,num):\n",
    "    sum+=i\n",
    "print(f'Sum of Natural Numbers from 1 to {num} is equal to {sum} ')"
   ]
  }
 ],
 "metadata": {
  "kernelspec": {
   "display_name": "Python 3 (ipykernel)",
   "language": "python",
   "name": "python3"
  },
  "language_info": {
   "codemirror_mode": {
    "name": "ipython",
    "version": 3
   },
   "file_extension": ".py",
   "mimetype": "text/x-python",
   "name": "python",
   "nbconvert_exporter": "python",
   "pygments_lexer": "ipython3",
   "version": "3.9.7"
  }
 },
 "nbformat": 4,
 "nbformat_minor": 5
}
