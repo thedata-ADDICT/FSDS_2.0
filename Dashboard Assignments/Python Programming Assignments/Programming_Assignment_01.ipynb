{
 "cells": [
  {
   "cell_type": "code",
   "execution_count": null,
   "id": "8105abf1",
   "metadata": {},
   "outputs": [],
   "source": [
    "# Question No 1"
   ]
  },
  {
   "cell_type": "code",
   "execution_count": 1,
   "id": "077c9672",
   "metadata": {},
   "outputs": [
    {
     "name": "stdout",
     "output_type": "stream",
     "text": [
      "Hello Python\n"
     ]
    }
   ],
   "source": [
    "print(\"Hello Python\")"
   ]
  },
  {
   "cell_type": "code",
   "execution_count": 2,
   "id": "39d36cc2",
   "metadata": {},
   "outputs": [],
   "source": [
    "# Question No 2"
   ]
  },
  {
   "cell_type": "code",
   "execution_count": 3,
   "id": "3b65b61d",
   "metadata": {},
   "outputs": [
    {
     "name": "stdout",
     "output_type": "stream",
     "text": [
      "Addition of a and b is equal to 15\n",
      "Divison of a by b is equal to 2.0\n"
     ]
    }
   ],
   "source": [
    "a=10\n",
    "b=5\n",
    "print(f'Addition of a and b is equal to {a+b}')\n",
    "print(f'Divison of a by b is equal to {a/b}')"
   ]
  },
  {
   "cell_type": "code",
   "execution_count": 4,
   "id": "930d7906",
   "metadata": {},
   "outputs": [],
   "source": [
    "# Question No 3"
   ]
  },
  {
   "cell_type": "code",
   "execution_count": 7,
   "id": "6007e07a",
   "metadata": {},
   "outputs": [
    {
     "name": "stdout",
     "output_type": "stream",
     "text": [
      "Enter Height of Triangle 10\n",
      "Enter Base of Triangle 5\n",
      "Area of Triangle with Height equal to 10 and Base equal to 5 is 25.0 SQ Units\n"
     ]
    }
   ],
   "source": [
    "Height=int(input(\"Enter Height of Triangle \"))\n",
    "Base=int(input(\"Enter Base of Triangle \"))\n",
    "Area= Height*Base*0.5\n",
    "print(f'Area of Triangle with Height equal to {Height} and Base equal to {Base} is {Area} SQ Units')"
   ]
  },
  {
   "cell_type": "code",
   "execution_count": 8,
   "id": "3509eec1",
   "metadata": {},
   "outputs": [],
   "source": [
    "# Question No 4"
   ]
  },
  {
   "cell_type": "code",
   "execution_count": 9,
   "id": "2e3e61bb",
   "metadata": {},
   "outputs": [
    {
     "name": "stdout",
     "output_type": "stream",
     "text": [
      "Enter a Value 10\n",
      "Enter a Value 5\n",
      "Variables Before Swapping : 10 and 5\n",
      "Variables After Swapping : 5 and 10\n"
     ]
    }
   ],
   "source": [
    "a=input(\"Enter a Value \")\n",
    "b=input(\"Enter a Value \")\n",
    "print(f'Variables Before Swapping : {a} and {b}')\n",
    "a,b=b,a\n",
    "print(f'Variables After Swapping : {a} and {b}')"
   ]
  },
  {
   "cell_type": "code",
   "execution_count": 10,
   "id": "e138af4a",
   "metadata": {},
   "outputs": [],
   "source": [
    "# Question No 5"
   ]
  },
  {
   "cell_type": "code",
   "execution_count": 15,
   "id": "3242fb16",
   "metadata": {},
   "outputs": [
    {
     "data": {
      "text/plain": [
       "6"
      ]
     },
     "execution_count": 15,
     "metadata": {},
     "output_type": "execute_result"
    }
   ],
   "source": [
    "import random          # To Generate random numbers we need to import random module \n",
    "\n",
    "random.randint(0,9)    # randint function takes 2 arguments , between which a random number is generated "
   ]
  }
 ],
 "metadata": {
  "kernelspec": {
   "display_name": "Python 3 (ipykernel)",
   "language": "python",
   "name": "python3"
  },
  "language_info": {
   "codemirror_mode": {
    "name": "ipython",
    "version": 3
   },
   "file_extension": ".py",
   "mimetype": "text/x-python",
   "name": "python",
   "nbconvert_exporter": "python",
   "pygments_lexer": "ipython3",
   "version": "3.9.7"
  }
 },
 "nbformat": 4,
 "nbformat_minor": 5
}
