{
  "nbformat": 4,
  "nbformat_minor": 0,
  "metadata": {
    "colab": {
      "provenance": []
    },
    "kernelspec": {
      "name": "python3",
      "display_name": "Python 3"
    },
    "language_info": {
      "name": "python"
    }
  },
  "cells": [
    {
      "cell_type": "markdown",
      "source": [
        "##ASSIGNMENT"
      ],
      "metadata": {
        "id": "qErbYHumETpm"
      }
    },
    {
      "cell_type": "markdown",
      "source": [
        "1. Write a Python Program to find sum of array?"
      ],
      "metadata": {
        "id": "rnct62i7EYwF"
      }
    },
    {
      "cell_type": "code",
      "source": [
        "arr=[1,2,3,4,3,4,5,6,7,5,6]\n",
        "sum=0\n",
        "for i in arr:\n",
        "  sum=sum+i\n",
        "print(f\"sum : {sum}\")"
      ],
      "metadata": {
        "id": "uVq3KAvyEmwY"
      },
      "execution_count": null,
      "outputs": []
    },
    {
      "cell_type": "markdown",
      "source": [
        "2. Write a Python Program to find largest element in an array?"
      ],
      "metadata": {
        "id": "Wb5sthKBEblb"
      }
    },
    {
      "cell_type": "code",
      "source": [
        "arr=[1,2,3,4,3,4,5,6,75,5,56]\n",
        "largest=arr[0]\n",
        "for num in arr:\n",
        "  if(num>largest):\n",
        "    largest=num\n",
        "\n",
        "print(largest)"
      ],
      "metadata": {
        "id": "tEvePAugE2jO"
      },
      "execution_count": null,
      "outputs": []
    },
    {
      "cell_type": "markdown",
      "source": [
        "3. Write a Python Program for array rotation?"
      ],
      "metadata": {
        "id": "MN5ZuKLQEetf"
      }
    },
    {
      "cell_type": "code",
      "source": [
        "arr=[1,2,3,4,3,4,5,6,7,5,6]\n",
        "\n",
        "k=int(input(\"Enter number of step for rotation \"))\n",
        "k=k%len(arr)\n",
        "for num in range(k):\n",
        "  l=arr.pop(0)\n",
        "  arr.append(l)\n",
        "\n",
        "print(arr)\n",
        "\n"
      ],
      "metadata": {
        "id": "XoPkecdlFIjY"
      },
      "execution_count": null,
      "outputs": []
    },
    {
      "cell_type": "markdown",
      "source": [
        "4. Write a Python Program to Split the array and add the first part to the end?"
      ],
      "metadata": {
        "id": "Tn1UB4fiI55l"
      }
    },
    {
      "cell_type": "code",
      "source": [
        "arr=[1,2,3,4,5,6,7,8]\n",
        "temp=list()\n",
        "\n",
        "k=int(input(\"Enter index for array split \"))\n",
        "\n",
        "temp=arr[k+1:]\n",
        "for i in range(len(arr)):\n",
        "  if(i==k+1):\n",
        "    break\n",
        "  temp.append(arr[i])\n",
        "\n",
        "temp"
      ],
      "metadata": {
        "id": "C8erBWHUJDUE"
      },
      "execution_count": null,
      "outputs": []
    },
    {
      "cell_type": "markdown",
      "source": [
        "5. Write a Python Program to check if given array is Monotonic?"
      ],
      "metadata": {
        "id": "Uq_vPEaQElD6"
      }
    },
    {
      "cell_type": "code",
      "source": [
        "a=[1,1,1,1,1,1,1]\n",
        "is_inc=1\n",
        "is_dec=1\n",
        "i=j=0\n",
        "while(1):\n",
        "  if(i==len(a)-1):\n",
        "    break\n",
        "  if(a[i]>a[i+1]):\n",
        "    is_inc=0\n",
        "    break\n",
        "  i=i+1\n",
        "\n",
        "while(1):\n",
        "  if(j==(len(a)-1)):\n",
        "    break\n",
        "  if(a[j]<a[j+1]):\n",
        "    is_dec=0\n",
        "    break  \n",
        "  j=j+1\n",
        "if(is_inc or is_dec):\n",
        "   print(f\"{a} is monotonic\")\n",
        "else:\n",
        "  print(f\"{a} is not monotonic\")"
      ],
      "metadata": {
        "id": "JcVLgl2mM6F-"
      },
      "execution_count": null,
      "outputs": []
    },
    {
      "cell_type": "code",
      "source": [],
      "metadata": {
        "id": "V0ad0Q7ANVCu"
      },
      "execution_count": null,
      "outputs": []
    }
  ]
}