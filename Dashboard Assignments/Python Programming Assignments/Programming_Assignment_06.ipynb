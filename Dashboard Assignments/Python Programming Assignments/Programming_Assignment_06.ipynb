{
  "nbformat": 4,
  "nbformat_minor": 0,
  "metadata": {
    "colab": {
      "provenance": []
    },
    "kernelspec": {
      "name": "python3",
      "display_name": "Python 3"
    },
    "language_info": {
      "name": "python"
    }
  },
  "cells": [
    {
      "cell_type": "code",
      "execution_count": 1,
      "metadata": {
        "id": "GqSV3kMIGQQP"
      },
      "outputs": [],
      "source": [
        "# Question No 1"
      ]
    },
    {
      "cell_type": "code",
      "source": [
        "def fibonacci(num):\n",
        "    if(num==0):\n",
        "        return 0\n",
        "    elif(num==1):\n",
        "        return 1\n",
        "    else:\n",
        "        return (fibonacci(num-1) + fibonacci(num-2))"
      ],
      "metadata": {
        "id": "NeDPfskVGeYl"
      },
      "execution_count": 5,
      "outputs": []
    },
    {
      "cell_type": "code",
      "source": [
        "num=int(input(\"Enter a Number : \"))\n",
        "if(num<0):\n",
        "    print(\"Enter a Positive Number \")\n",
        "else:\n",
        "    for i in range(num):\n",
        "        print(fibonacci(i), end=\" \")"
      ],
      "metadata": {
        "colab": {
          "base_uri": "https://localhost:8080/"
        },
        "id": "7Bmvv36TGgGR",
        "outputId": "ad386437-ef3d-4312-ed14-e96109fa411b"
      },
      "execution_count": 6,
      "outputs": [
        {
          "output_type": "stream",
          "name": "stdout",
          "text": [
            "Enter a Number : 10\n",
            "0 1 1 2 3 5 8 13 21 34 "
          ]
        }
      ]
    },
    {
      "cell_type": "code",
      "source": [
        "# Question No 2"
      ],
      "metadata": {
        "id": "3ni3TQ05GgC3"
      },
      "execution_count": 2,
      "outputs": []
    },
    {
      "cell_type": "code",
      "source": [
        "def fact(n):\n",
        "    if(n==0):\n",
        "        return 0\n",
        "    elif(n==1):\n",
        "        return 1\n",
        "    else:\n",
        "        return n*fact(n-1)"
      ],
      "metadata": {
        "id": "ZN-gqSWQGfw1"
      },
      "execution_count": 3,
      "outputs": []
    },
    {
      "cell_type": "code",
      "source": [
        "fact(5)"
      ],
      "metadata": {
        "colab": {
          "base_uri": "https://localhost:8080/"
        },
        "id": "bZZXzQQoGjbB",
        "outputId": "04730883-3d6b-464a-9b9e-30150ad5b0ae"
      },
      "execution_count": 4,
      "outputs": [
        {
          "output_type": "execute_result",
          "data": {
            "text/plain": [
              "120"
            ]
          },
          "metadata": {},
          "execution_count": 4
        }
      ]
    },
    {
      "cell_type": "code",
      "source": [
        "# Question No 3"
      ],
      "metadata": {
        "id": "bXVfjOgWGkfD"
      },
      "execution_count": 7,
      "outputs": []
    },
    {
      "cell_type": "code",
      "source": [
        "weight=float(input(\"Enter Your Weight in KG    \"))\n",
        "height=float(input(\"Enter Your Height in Metre \"))\n",
        "BMI=round((weight)/(height*height),2)\n",
        "print(f'Your BMI is {BMI} ') "
      ],
      "metadata": {
        "colab": {
          "base_uri": "https://localhost:8080/"
        },
        "id": "AD-f6LgGGwHt",
        "outputId": "e22c491c-99be-43ff-ccb0-a31008479954"
      },
      "execution_count": 11,
      "outputs": [
        {
          "output_type": "stream",
          "name": "stdout",
          "text": [
            "Enter Your Weight in KG    60\n",
            "Enter Your Height in Metre 1.52\n",
            "Your BMI is 25.97 \n"
          ]
        }
      ]
    },
    {
      "cell_type": "code",
      "source": [
        "# Question 4"
      ],
      "metadata": {
        "id": "wxCHA7T_HSrc"
      },
      "execution_count": 12,
      "outputs": []
    },
    {
      "cell_type": "code",
      "source": [
        "import math\n",
        "num=int(input(\"Enter a Number \"))\n",
        "print (f'Natural Logarithm of {num} is equal to {round(math.log(num),2)}')"
      ],
      "metadata": {
        "colab": {
          "base_uri": "https://localhost:8080/"
        },
        "id": "XKHXyrYNUpYF",
        "outputId": "6e0aaa7f-8270-49a4-80c8-86c98002f988"
      },
      "execution_count": 14,
      "outputs": [
        {
          "output_type": "stream",
          "name": "stdout",
          "text": [
            "Enter a Number 2\n",
            "Natural Logarithm of 2 is equal to 0.69\n"
          ]
        }
      ]
    },
    {
      "cell_type": "code",
      "source": [
        "# Question No 5"
      ],
      "metadata": {
        "id": "84PEF96cU6A3"
      },
      "execution_count": 15,
      "outputs": []
    },
    {
      "cell_type": "code",
      "source": [
        "num=int(input(\"Enter a Number \"))\n",
        "sum=0\n",
        "for i in range(1,num+1):\n",
        "  sum+=i*i*i\n",
        "print(f'Sum of Cube of all Natural Numbers upto {num} is equal to {sum}')"
      ],
      "metadata": {
        "colab": {
          "base_uri": "https://localhost:8080/"
        },
        "id": "UT2esW-nVBX2",
        "outputId": "781aa210-3485-4acd-f871-9469741d6ddc"
      },
      "execution_count": 16,
      "outputs": [
        {
          "output_type": "stream",
          "name": "stdout",
          "text": [
            "Enter a Number 3\n",
            "Sum of Cube of all Natural Numbers upto 3 is equal to 36\n"
          ]
        }
      ]
    }
  ]
}