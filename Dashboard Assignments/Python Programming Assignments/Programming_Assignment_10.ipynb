{
  "nbformat": 4,
  "nbformat_minor": 0,
  "metadata": {
    "colab": {
      "provenance": []
    },
    "kernelspec": {
      "name": "python3",
      "display_name": "Python 3"
    },
    "language_info": {
      "name": "python"
    }
  },
  "cells": [
    {
      "cell_type": "markdown",
      "source": [
        "# Question 1 to Question 11 "
      ],
      "metadata": {
        "id": "NDrB2Zv85PK7"
      }
    },
    {
      "cell_type": "code",
      "execution_count": 1,
      "metadata": {
        "id": "1U5gErd12I8W"
      },
      "outputs": [],
      "source": [
        "L=[1,2,3,4,5,6,7,8,9,10]"
      ]
    },
    {
      "cell_type": "code",
      "source": [
        "# Question 1\n",
        "print(f'Sum of all Elements of List L is equal to : {sum(L)} ')"
      ],
      "metadata": {
        "colab": {
          "base_uri": "https://localhost:8080/"
        },
        "id": "roWcu0-X5aDS",
        "outputId": "9947c49a-f960-4b09-9aeb-ded66b612023"
      },
      "execution_count": 2,
      "outputs": [
        {
          "output_type": "stream",
          "name": "stdout",
          "text": [
            "Sum of all Elements of List L is equal to : 55 \n"
          ]
        }
      ]
    },
    {
      "cell_type": "code",
      "source": [
        "# Question 2\n",
        "res=1\n",
        "for i in L:\n",
        "  res=res*i\n",
        "print(f'Productof all Elements of List L is equal to : {res} ')"
      ],
      "metadata": {
        "colab": {
          "base_uri": "https://localhost:8080/"
        },
        "id": "-5uBqEve5wUy",
        "outputId": "da0389d1-843b-4069-a8ec-56e7049cad1f"
      },
      "execution_count": 8,
      "outputs": [
        {
          "output_type": "stream",
          "name": "stdout",
          "text": [
            "Productof all Elements of List L is equal to : 3628800 \n"
          ]
        }
      ]
    },
    {
      "cell_type": "code",
      "source": [
        "# Question 3\n",
        "print(f'Minimum among all Elements of List L is equal to : {min(L)} ')"
      ],
      "metadata": {
        "colab": {
          "base_uri": "https://localhost:8080/"
        },
        "id": "eCbXQO-K589F",
        "outputId": "c8987f7a-1147-4665-9788-d6075f2d2755"
      },
      "execution_count": 9,
      "outputs": [
        {
          "output_type": "stream",
          "name": "stdout",
          "text": [
            "minimum among all Elements of List L is equal to : 1 \n"
          ]
        }
      ]
    },
    {
      "cell_type": "code",
      "source": [
        "# Question 4\n",
        "print(f'Maximum among all Elements of List L is equal to : {max(L)} ')"
      ],
      "metadata": {
        "colab": {
          "base_uri": "https://localhost:8080/"
        },
        "id": "867PTCH_7HK3",
        "outputId": "f8795555-ab1e-4d03-bbb2-34a85e56cab4"
      },
      "execution_count": 10,
      "outputs": [
        {
          "output_type": "stream",
          "name": "stdout",
          "text": [
            "Maximum among all Elements of List L is equal to : 10 \n"
          ]
        }
      ]
    },
    {
      "cell_type": "code",
      "source": [
        "# Question 5\n",
        "temp_list=sorted(L,reverse=True)\n",
        "print(f'Second Largest among all Elements of List L is equal to : {temp_list[1]} ')"
      ],
      "metadata": {
        "colab": {
          "base_uri": "https://localhost:8080/"
        },
        "id": "Xl3V46Qd7MJW",
        "outputId": "15dfa995-da6e-4bcc-987d-81224b7a1f6e"
      },
      "execution_count": 13,
      "outputs": [
        {
          "output_type": "stream",
          "name": "stdout",
          "text": [
            "Second Largest among all Elements of List L is equal to : 9 \n"
          ]
        }
      ]
    },
    {
      "cell_type": "code",
      "source": [
        "# Question 6\n",
        "N=int(input(\"Enter Value of N : \"))\n",
        "temp_list=sorted(L,reverse=True)\n",
        "print(f'{N} Largest Numbers among all Elements of List L is equal to : {temp_list[0:N]} ')"
      ],
      "metadata": {
        "colab": {
          "base_uri": "https://localhost:8080/"
        },
        "id": "OHcm51Qe7UC9",
        "outputId": "e138b631-bb49-407b-af59-777ebf9891bb"
      },
      "execution_count": 15,
      "outputs": [
        {
          "output_type": "stream",
          "name": "stdout",
          "text": [
            "Enter Value of N : 4\n",
            "4 Largest Numbers among all Elements of List L is equal to : [10, 9, 8, 7] \n"
          ]
        }
      ]
    },
    {
      "cell_type": "code",
      "source": [
        "# Question 7\n",
        "l1=[]\n",
        "for i in L:\n",
        "  if(i%2==0):\n",
        "    l1.append(i)\n",
        "print(f'All the Even Numbers from List L are {l1} ')"
      ],
      "metadata": {
        "colab": {
          "base_uri": "https://localhost:8080/"
        },
        "id": "Qm937AUX71Kj",
        "outputId": "5a54491d-8863-4705-a9a6-1c7de2f0704b"
      },
      "execution_count": 19,
      "outputs": [
        {
          "output_type": "stream",
          "name": "stdout",
          "text": [
            "All the Even Numbers from List L are [2, 4, 6, 8, 10] \n"
          ]
        }
      ]
    },
    {
      "cell_type": "code",
      "source": [
        "# Question 8\n",
        "l2=[]\n",
        "for i in L:\n",
        "  if(i%2!=0):\n",
        "    l2.append(i)\n",
        "print(f'All the Odd Numbers from List L are {l2} ')"
      ],
      "metadata": {
        "colab": {
          "base_uri": "https://localhost:8080/"
        },
        "id": "ajVeyHie8LWv",
        "outputId": "008f7ae7-25ed-4973-f1d2-707a55733767"
      },
      "execution_count": 18,
      "outputs": [
        {
          "output_type": "stream",
          "name": "stdout",
          "text": [
            "All the Odd Numbers from List L are [1, 3, 5, 7, 9] \n"
          ]
        }
      ]
    },
    {
      "cell_type": "code",
      "source": [
        "# Question 10\n",
        "copied_list_1=L.copy()\n",
        "copied_list_2=list(L)\n",
        "print(f'1st Copy of List L : {copied_list_1} ')\n",
        "print(f'2nd Copy of List L : {copied_list_2} ')"
      ],
      "metadata": {
        "colab": {
          "base_uri": "https://localhost:8080/"
        },
        "id": "CRuGeBVE8ec0",
        "outputId": "70d78a34-7bf7-4498-bee9-91c82f327abc"
      },
      "execution_count": 20,
      "outputs": [
        {
          "output_type": "stream",
          "name": "stdout",
          "text": [
            "1st Copy of List L : [1, 2, 3, 4, 5, 6, 7, 8, 9, 10] \n",
            "2nd Copy of List L : [1, 2, 3, 4, 5, 6, 7, 8, 9, 10] \n"
          ]
        }
      ]
    },
    {
      "cell_type": "code",
      "source": [
        "# Question 11\n",
        "from collections import Counter\n",
        "print(Counter(L))"
      ],
      "metadata": {
        "colab": {
          "base_uri": "https://localhost:8080/"
        },
        "id": "Si4IOwyJ9k1I",
        "outputId": "b34899e4-3e55-4107-b098-7105ce94aec2"
      },
      "execution_count": 23,
      "outputs": [
        {
          "output_type": "stream",
          "name": "stdout",
          "text": [
            "Counter({1: 1, 2: 1, 3: 1, 4: 1, 5: 1, 6: 1, 7: 1, 8: 1, 9: 1, 10: 1})\n"
          ]
        }
      ]
    },
    {
      "cell_type": "markdown",
      "source": [
        "# Question 9"
      ],
      "metadata": {
        "id": "04S4cTHz-Ziq"
      }
    },
    {
      "cell_type": "code",
      "source": [
        "L=[1,2,3,4,[],5,6,7,8,9,10]\n",
        "for i in L:\n",
        "  if(i==[]):\n",
        "    L.remove(i)\n",
        "print(L)"
      ],
      "metadata": {
        "colab": {
          "base_uri": "https://localhost:8080/"
        },
        "id": "G4EIBbZn97m3",
        "outputId": "a4036d61-82d1-416e-bc4a-879e747639d4"
      },
      "execution_count": 26,
      "outputs": [
        {
          "output_type": "stream",
          "name": "stdout",
          "text": [
            "[1, 2, 3, 4, 5, 6, 7, 8, 9, 10]\n"
          ]
        }
      ]
    }
  ]
}