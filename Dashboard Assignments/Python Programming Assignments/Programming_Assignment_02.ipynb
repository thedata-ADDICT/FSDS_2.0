{
 "cells": [
  {
   "cell_type": "code",
   "execution_count": 1,
   "id": "a1e7a3d0",
   "metadata": {},
   "outputs": [],
   "source": [
    "# Question No 1"
   ]
  },
  {
   "cell_type": "code",
   "execution_count": 7,
   "id": "8b4b21b1",
   "metadata": {},
   "outputs": [
    {
     "name": "stdout",
     "output_type": "stream",
     "text": [
      "Enter Distance in Kilometres 10\n",
      "10 Kilometeres converted to Miles is Equivalent to 6.21 Miles\n"
     ]
    }
   ],
   "source": [
    "km=int(input(\"Enter Distance in Kilometres \"))\n",
    "print(f'{km} Kilometeres converted to Miles is Equivalent to {round((km*0.6214),2)} Miles')"
   ]
  },
  {
   "cell_type": "code",
   "execution_count": 8,
   "id": "217c2ef7",
   "metadata": {},
   "outputs": [],
   "source": [
    "# Question No 2"
   ]
  },
  {
   "cell_type": "code",
   "execution_count": 11,
   "id": "4932e149",
   "metadata": {},
   "outputs": [
    {
     "name": "stdout",
     "output_type": "stream",
     "text": [
      "Enter Distance in Kilometres 0\n",
      "0 Celsius converted to Fahrenheit is Equivalent to 32.0 Fahrenheit\n"
     ]
    }
   ],
   "source": [
    "celsius=int(input(\"Enter Distance in Kilometres \"))\n",
    "print(f'{celsius} Celsius converted to Fahrenheit is Equivalent to {round(((celsius*1.8)+32),2)} Fahrenheit')"
   ]
  },
  {
   "cell_type": "code",
   "execution_count": 12,
   "id": "2443f361",
   "metadata": {},
   "outputs": [],
   "source": [
    "# Question No 3"
   ]
  },
  {
   "cell_type": "code",
   "execution_count": 13,
   "id": "d464586f",
   "metadata": {},
   "outputs": [
    {
     "name": "stdout",
     "output_type": "stream",
     "text": [
      "Enter Year : 2022\n",
      "Enter month : 11\n",
      "   November 2022\n",
      "Mo Tu We Th Fr Sa Su\n",
      "    1  2  3  4  5  6\n",
      " 7  8  9 10 11 12 13\n",
      "14 15 16 17 18 19 20\n",
      "21 22 23 24 25 26 27\n",
      "28 29 30\n",
      "\n"
     ]
    }
   ],
   "source": [
    "import calendar    # To display calendar we need to import calendar module in Python\n",
    "\n",
    "year=int(input(\"Enter Year : \"))\n",
    "month=int(input(\"Enter month : \"))\n",
    "\n",
    "print(calendar.month(year, month))"
   ]
  },
  {
   "cell_type": "code",
   "execution_count": 14,
   "id": "b30504cc",
   "metadata": {},
   "outputs": [],
   "source": [
    "# Question 4"
   ]
  },
  {
   "cell_type": "code",
   "execution_count": 15,
   "id": "755e6125",
   "metadata": {},
   "outputs": [
    {
     "name": "stdout",
     "output_type": "stream",
     "text": [
      " Enter the Value of a : 1\n",
      " Enter the Value of a : 5\n",
      " Enter the Value of a : 6\n",
      "The Roots of Equation 1x**2 + 5x + 6 are (-3+0j) and (-2+0j)\n"
     ]
    }
   ],
   "source": [
    "# A quadratic equation is of form ax**2 + bx + c = 0\n",
    "\n",
    "# importing complex math module as it will be required to find the roots of equation\n",
    "import cmath\n",
    "\n",
    "a = int(input(\" Enter the Value of a : \"))\n",
    "b = int(input(\" Enter the Value of a : \"))\n",
    "c = int(input(\" Enter the Value of a : \"))\n",
    "\n",
    "# calculating the discriminant\n",
    "d = (b**2) - (4*a*c)\n",
    "\n",
    "# finding the two roots \n",
    "root1 = (-b-cmath.sqrt(d))/(2*a)\n",
    "root2 = (-b+cmath.sqrt(d))/(2*a)\n",
    "\n",
    "print(f'The Roots of Equation {a}x**2 + {b}x + {c} are {root1} and {root2}')\n"
   ]
  },
  {
   "cell_type": "code",
   "execution_count": 16,
   "id": "26ea4460",
   "metadata": {},
   "outputs": [],
   "source": [
    "# Question 5"
   ]
  },
  {
   "cell_type": "code",
   "execution_count": 20,
   "id": "ef440969",
   "metadata": {},
   "outputs": [
    {
     "name": "stdout",
     "output_type": "stream",
     "text": [
      "Enter Vaue for variale a  : 10\n",
      "Enter Vaue for variale b  : 5\n",
      "Variables Before swapping : 10 & 5\n",
      "Variables After swapping  :  5 & 10\n"
     ]
    }
   ],
   "source": [
    "a=input(\"Enter Vaue for variale a  : \")\n",
    "b=input(\"Enter Vaue for variale b  : \")\n",
    "print(f'Variables Before swapping : {a} & {b}')\n",
    "a,b=b,a\n",
    "print(f'Variables After swapping  :  {a} & {b}')"
   ]
  }
 ],
 "metadata": {
  "kernelspec": {
   "display_name": "Python 3 (ipykernel)",
   "language": "python",
   "name": "python3"
  },
  "language_info": {
   "codemirror_mode": {
    "name": "ipython",
    "version": 3
   },
   "file_extension": ".py",
   "mimetype": "text/x-python",
   "name": "python",
   "nbconvert_exporter": "python",
   "pygments_lexer": "ipython3",
   "version": "3.9.7"
  }
 },
 "nbformat": 4,
 "nbformat_minor": 5
}
