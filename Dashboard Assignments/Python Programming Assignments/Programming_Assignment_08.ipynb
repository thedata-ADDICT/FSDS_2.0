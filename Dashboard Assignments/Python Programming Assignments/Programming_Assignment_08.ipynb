{
  "nbformat": 4,
  "nbformat_minor": 0,
  "metadata": {
    "colab": {
      "provenance": []
    },
    "kernelspec": {
      "name": "python3",
      "display_name": "Python 3"
    },
    "language_info": {
      "name": "python"
    }
  },
  "cells": [
    {
      "cell_type": "markdown",
      "source": [
        "# Question 1"
      ],
      "metadata": {
        "id": "JR9WZP7l2ThG"
      }
    },
    {
      "cell_type": "code",
      "source": [
        "# Program to add two matrices using nested loop\n",
        "\n",
        "X = [[12,7,3],\n",
        "     [4 ,5,6],\n",
        "     [7 ,8,9]]\n",
        "\n",
        "Y = [[5,8,1],\n",
        "     [6,7,3],\n",
        "     [4,5,9]]\n",
        "\n",
        "res = [[0,0,0],\n",
        "       [0,0,0],\n",
        "       [0,0,0]]\n",
        "\n",
        "# iterate through rows\n",
        "for i in range(len(X)):\n",
        "   # iterate through columns\n",
        "   for j in range(len(X[0])):\n",
        "       res[i][j] = X[i][j] + Y[i][j]\n",
        "\n",
        "print(f'Sum of Matrix X and Y is equal to :')\n",
        "for row in res:\n",
        "   print(row)\n"
      ],
      "metadata": {
        "colab": {
          "base_uri": "https://localhost:8080/"
        },
        "id": "Axa9lDG62S4Q",
        "outputId": "da4b73ad-b7f8-4574-ef39-f0fca060f05a"
      },
      "execution_count": 5,
      "outputs": [
        {
          "output_type": "stream",
          "name": "stdout",
          "text": [
            "Sum of Matrix X and Y is equal to :\n",
            "[17, 15, 4]\n",
            "[10, 12, 9]\n",
            "[11, 13, 18]\n"
          ]
        }
      ]
    },
    {
      "cell_type": "markdown",
      "source": [
        "# Question 2"
      ],
      "metadata": {
        "id": "FhwzhYaX35Ys"
      }
    },
    {
      "cell_type": "code",
      "execution_count": 6,
      "metadata": {
        "id": "oF31gDBeAQMH",
        "colab": {
          "base_uri": "https://localhost:8080/"
        },
        "outputId": "e966c674-eb8a-40ed-ad7e-97a2156a2c35"
      },
      "outputs": [
        {
          "output_type": "stream",
          "name": "stdout",
          "text": [
            "Product of Matrix X and Y is equal to :\n",
            "[114, 160, 60, 27]\n",
            "[74, 97, 73, 14]\n",
            "[119, 157, 112, 23]\n"
          ]
        }
      ],
      "source": [
        "# Program to multiply two matrices using nested loops\n",
        "\n",
        "# 3x3 matrix\n",
        "X = [[12,7,3],\n",
        "     [4 ,5,6],\n",
        "     [7 ,8,9]]\n",
        "\n",
        "# 3x4 matrix\n",
        "Y = [[5,8,1,2],\n",
        "     [6,7,3,0],\n",
        "     [4,5,9,1]]\n",
        "\n",
        "# result is 3x4\n",
        "res =   [[0,0,0,0],\n",
        "         [0,0,0,0],\n",
        "         [0,0,0,0]]\n",
        "\n",
        "# iterate through rows of X\n",
        "for i in range(len(X)):\n",
        "   # iterate through columns of Y\n",
        "   for j in range(len(Y[0])):\n",
        "       # iterate through rows of Y\n",
        "       for k in range(len(Y)):\n",
        "           res[i][j] += X[i][k] * Y[k][j]\n",
        "\n",
        "print(f'Product of Matrix X and Y is equal to :')\n",
        "for row in res:\n",
        "   print(row)"
      ]
    },
    {
      "cell_type": "markdown",
      "source": [
        "# Question 3"
      ],
      "metadata": {
        "id": "_Ky3owxf46JZ"
      }
    },
    {
      "cell_type": "code",
      "source": [
        "# Program to transpose a matrix using a nested loop\n",
        "\n",
        "X = [[12,7],\n",
        "     [4 ,5],\n",
        "     [3 ,8]]\n",
        "\n",
        "res =    [[0,0,0],\n",
        "          [0,0,0]]\n",
        "\n",
        "# iterate through rows\n",
        "for i in range(len(X)):\n",
        "   # iterate through columns\n",
        "   for j in range(len(X[0])):\n",
        "       res[j][i] = X[i][j]\n",
        "\n",
        "print(f'Transpose of Matrix X is equal to : ')\n",
        "for row in res:\n",
        "   print(row)\n",
        "\n"
      ],
      "metadata": {
        "colab": {
          "base_uri": "https://localhost:8080/"
        },
        "id": "1re5zlnv47Pb",
        "outputId": "1fb97c1a-6607-4272-c4a7-35b41a3a27d8"
      },
      "execution_count": 7,
      "outputs": [
        {
          "output_type": "stream",
          "name": "stdout",
          "text": [
            "Transpose of Matrix X is equal to : \n",
            "[12, 4, 3]\n",
            "[7, 5, 8]\n"
          ]
        }
      ]
    },
    {
      "cell_type": "markdown",
      "source": [
        "# Question 4"
      ],
      "metadata": {
        "id": "nqijosCaQSSA"
      }
    },
    {
      "cell_type": "code",
      "source": [
        "L=['A','C','D','K','J','B']\n",
        "print(f'Sorted List L : {sorted(L)}')"
      ],
      "metadata": {
        "colab": {
          "base_uri": "https://localhost:8080/"
        },
        "id": "tAVtVK6PQTci",
        "outputId": "9ced776c-253e-4b46-cc72-1548bb4249ce"
      },
      "execution_count": 1,
      "outputs": [
        {
          "output_type": "stream",
          "name": "stdout",
          "text": [
            "Sorted List L : ['A', 'B', 'C', 'D', 'J', 'K']\n"
          ]
        }
      ]
    },
    {
      "cell_type": "markdown",
      "source": [
        "# Question 5"
      ],
      "metadata": {
        "id": "WXcds9QYQrmG"
      }
    },
    {
      "cell_type": "code",
      "source": [
        "s=input(\"Enter a String With Punctuations : \")\n",
        "new_str=''\n",
        "for i in s:\n",
        "  if (ord(i) in range(65,91) or ord(i) in range(97,123)):\n",
        "    new_str=new_str+i\n",
        "print(f'String S after removing Punctuations : {new_str}')"
      ],
      "metadata": {
        "colab": {
          "base_uri": "https://localhost:8080/"
        },
        "id": "0a8UbEyEQi7u",
        "outputId": "3fd0d0b1-c9fc-4a86-fec3-016944d2c5b8"
      },
      "execution_count": 11,
      "outputs": [
        {
          "output_type": "stream",
          "name": "stdout",
          "text": [
            "Enter a String With Punctuations : !@#$,./;'[kartik%^&*()][09\n",
            "String S after removing Punctuations : kartik\n"
          ]
        }
      ]
    }
  ]
}