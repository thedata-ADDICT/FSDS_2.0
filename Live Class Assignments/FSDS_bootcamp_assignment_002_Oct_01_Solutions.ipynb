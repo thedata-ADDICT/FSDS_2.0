{
  "nbformat": 4,
  "nbformat_minor": 0,
  "metadata": {
    "colab": {
      "provenance": []
    },
    "kernelspec": {
      "name": "python3",
      "display_name": "Python 3"
    },
    "language_info": {
      "name": "python"
    }
  },
  "cells": [
    {
      "cell_type": "markdown",
      "source": [
        "# Question 1"
      ],
      "metadata": {
        "id": "Rkfwnm-dGojN"
      }
    },
    {
      "cell_type": "code",
      "source": [
        "'''\n",
        "One of the main reasons for the indentation error is the absence of tabs and or whitespaces between lines of code. \n",
        "Since python makes use of procedural language, it partitions the entire code into Blocks of Code , where Each Block is Identified based on\n",
        "the Indentation Provided .\n",
        "Hence if We miss out on adding tabs or spaces between the lines of code, \n",
        "then python Interpreter intrprets it as missing code and throws Indentation Error.\n",
        "'''\n",
        "# Example 1 \n",
        "\n",
        "a=1\n",
        "b=2\n",
        "if(a==b):\n",
        "print(\" a equals b \")\n",
        "else:\n",
        "  print(\"a not equals b\")\n",
        "\n",
        "# Corrected code \n",
        "'''\n",
        "a=1\n",
        "b=2\n",
        "if(a==b):\n",
        "  print(\" a equals b \")\n",
        "else:\n",
        "  print(\"a not equals b\")\n",
        "'''\n"
      ],
      "metadata": {
        "id": "H5DAFybhGrxq"
      },
      "execution_count": null,
      "outputs": []
    },
    {
      "cell_type": "markdown",
      "source": [
        "# Question 2"
      ],
      "metadata": {
        "id": "UWReKnFbiL6s"
      }
    },
    {
      "cell_type": "code",
      "execution_count": null,
      "metadata": {
        "id": "Qi6ARdn7hVYF"
      },
      "outputs": [],
      "source": [
        "class_started = bool(int(input(\"Hey friend, is class started?: [0-False/1-True]\")))\n",
        "\n",
        "''' Input Method in Python , gets a string input . Hence to convert it into Boolean type ,we first need to convert the String Value to Integer \n",
        "and then cast the Integer Value to Boolean .\n",
        "And Now this Boolean Value is passed to If condition , and result is evaluated based on the execution of If or Else Block '''\n",
        "\n",
        "if class_started:\n",
        "   print(\"Since class started...\")\n",
        "   print(\"Lets concentrate\")\n",
        "else:\n",
        "   print(\"Since class is not started...\")\n",
        "   print(\"let's revise\") "
      ]
    },
    {
      "cell_type": "markdown",
      "source": [
        "# Question 3"
      ],
      "metadata": {
        "id": "LWzcd59miPkB"
      }
    },
    {
      "cell_type": "code",
      "source": [
        "if(type(input())==str):\n",
        "  print(\"String Input Received\")\n",
        "else:\n",
        "  print(\"Please Enter a String Input\")"
      ],
      "metadata": {
        "id": "ZBhh3DjmiLXA"
      },
      "execution_count": null,
      "outputs": []
    },
    {
      "cell_type": "markdown",
      "source": [
        "# Question 4"
      ],
      "metadata": {
        "id": "qG3qs19LkS00"
      }
    },
    {
      "cell_type": "code",
      "source": [
        "x=int(input('Enter a Number : '))\n",
        "y=int(input('Enter a Number : '))\n",
        "z=int(input('Enter a Number : '))\n",
        "\n",
        "if(x>y and x>z):\n",
        "  print(f'{x} is Largest')\n",
        "elif(y>z):\n",
        "  print(f'{y} is Largest')\n",
        "else:\n",
        "  print(f'{z} is Largest')\n"
      ],
      "metadata": {
        "id": "PvbxOrJzjBqG"
      },
      "execution_count": null,
      "outputs": []
    },
    {
      "cell_type": "markdown",
      "source": [
        "# Question 5 \n",
        "Answer - False"
      ],
      "metadata": {
        "id": "YY24pt1YlpG2"
      }
    },
    {
      "cell_type": "markdown",
      "source": [
        "# Question 6"
      ],
      "metadata": {
        "id": "AsM56jnD8qcI"
      }
    },
    {
      "cell_type": "code",
      "source": [
        "# Case 1\n",
        "\n",
        "A = 5.0\n",
        "B = 10/2\n",
        "print(A is B)\n",
        "\n",
        "# Case 2\n",
        "\n",
        "A = 5.0\n",
        "B = int(10/2)\n",
        "print(A is B)\n",
        "\n",
        "# Case 3\n",
        "\n",
        "A = 5.0\n",
        "B = float(10/2)\n",
        "print(A is B)\n",
        "\n",
        "\n",
        "\"\"\" \n",
        "Explanation : All the 3 cases output will be False .\n",
        "This is because , IS operator checks if the corresponding operands point to the same memory Location or Not .\n",
        "If the operands points to same memory location (Object) , then the output of Statements like \n",
        "\" A is B \" evaluates to True otherwise outputs as False .\n",
        "In our cases , the Value of A is assigned a value 5.0 whereas B is assigned an expression as value which on execution evaluates to 5.0 \n",
        "and hence we can say that A and B are identical here but not same as the both Operands A and B both points to different Location in Memory . \n",
        "This can be verified by printing the ID\"s of A and B .\n",
        "\"\"\"\n",
        "\n"
      ],
      "metadata": {
        "id": "w2-ZLtOblqxH"
      },
      "execution_count": null,
      "outputs": []
    },
    {
      "cell_type": "markdown",
      "source": [
        "# Question 7"
      ],
      "metadata": {
        "id": "idpsg54mCleI"
      }
    },
    {
      "cell_type": "code",
      "source": [
        "num=int(input(\"Enter a Number : \"))\n",
        "\n",
        "if(num%3==0 or num%5==0):\n",
        "  print(\"The Number is Multiple of 3 or 5 \")\n",
        "else:\n",
        "  print(\"The Number is not a Multiple of 3 or 5\")"
      ],
      "metadata": {
        "id": "qzJgUtsz9qBA"
      },
      "execution_count": null,
      "outputs": []
    },
    {
      "cell_type": "markdown",
      "source": [
        "# Question 8"
      ],
      "metadata": {
        "id": "GmgfEm_XFAq5"
      }
    },
    {
      "cell_type": "code",
      "source": [
        "l=int(input(\"Enter Length \"))\n",
        "b=int(input(\"Enter breadth \"))\n",
        "\n",
        "if(l==b):\n",
        "  print(\"The Given Measurements are of Square \")\n",
        "  print(f\"Area of Square with side equals to {l} is {l*l} \")\n",
        "else:\n",
        "  print(\"The Given Measurements are of Rectangle \")\n",
        "  print(f\"Area of Rectangle with length equals to {l} and breadth equals to {b} is {l*b} \")\n",
        "\n"
      ],
      "metadata": {
        "id": "0y7ZHTVyECeV"
      },
      "execution_count": null,
      "outputs": []
    },
    {
      "cell_type": "markdown",
      "source": [
        "# Question 9"
      ],
      "metadata": {
        "id": "ZmiqC6bZIjYI"
      }
    },
    {
      "cell_type": "code",
      "source": [
        "radius_1=int(input(\"Enter Radius of Circel 1 : \"))\n",
        "radius_2=int(input(\"Enter Radius of Circel 2 : \"))\n",
        "pi=3.14\n",
        "A1=pi*radius_1*radius_1\n",
        "A2=pi*radius_2*radius_2\n",
        "\n",
        "if( A1 == A2 ):\n",
        "  print(\"Circel 1 and 2 have Equal Areas\")\n",
        "elif(A1>A2):\n",
        "  print(\"Circel 1 has Larger Area\")\n",
        "else:\n",
        "  print(\"Circel 2 has Larger Area\")"
      ],
      "metadata": {
        "id": "grXlYhy1F6c7"
      },
      "execution_count": null,
      "outputs": []
    },
    {
      "cell_type": "markdown",
      "source": [
        "# Question 10"
      ],
      "metadata": {
        "id": "sj0PcEAQLVcG"
      }
    },
    {
      "cell_type": "code",
      "source": [
        "year=int(input(\"Enter a Year in Format YYYY : \"))\n",
        "\n",
        "if(year%400==0):\n",
        "  print(\"It's a Leap Year \")\n",
        "else:\n",
        "  if(year%4==0 and year%100!=0):\n",
        "    print(\"It's a Leap Year\")\n",
        "  else:\n",
        "    print(\"It's not a Leap Year\")"
      ],
      "metadata": {
        "id": "US0FRWBVK-ps"
      },
      "execution_count": null,
      "outputs": []
    }
  ]
}