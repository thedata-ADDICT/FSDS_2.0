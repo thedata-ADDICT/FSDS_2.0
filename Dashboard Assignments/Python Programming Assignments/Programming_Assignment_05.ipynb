{
  "nbformat": 4,
  "nbformat_minor": 0,
  "metadata": {
    "colab": {
      "provenance": []
    },
    "kernelspec": {
      "name": "python3",
      "display_name": "Python 3"
    },
    "language_info": {
      "name": "python"
    }
  },
  "cells": [
    {
      "cell_type": "code",
      "execution_count": 1,
      "metadata": {
        "id": "iNikXiGZ5WkP"
      },
      "outputs": [],
      "source": [
        "# Question No 1"
      ]
    },
    {
      "cell_type": "code",
      "source": [
        "num1 = int(input(\"Enter First Number \"))\n",
        "num2 = int(input(\"Enter Second Number \"))\n",
        "for i in range(max(num1, num2), 1 + (num1 * num2)):\n",
        "    if (i % num1 == 0 and i % num2 == 0) :\n",
        "        lcm = i\n",
        "        break\n",
        "print(f'LCM of {num1} and {num2} is {lcm}')"
      ],
      "metadata": {
        "colab": {
          "base_uri": "https://localhost:8080/"
        },
        "id": "_-ZikW645cck",
        "outputId": "52273a31-c404-4412-9535-ccbd5097aa1e"
      },
      "execution_count": 14,
      "outputs": [
        {
          "output_type": "stream",
          "name": "stdout",
          "text": [
            "Enter First Number 2\n",
            "Enter Second Number 4\n",
            "LCM of 2 and 4 is 4\n"
          ]
        }
      ]
    },
    {
      "cell_type": "code",
      "source": [
        "# Question No 2"
      ],
      "metadata": {
        "id": "izUGxga554-c"
      },
      "execution_count": 4,
      "outputs": []
    },
    {
      "cell_type": "code",
      "source": [
        "num1 = int(input(\"Enter First Number \"))\n",
        "num2 = int(input(\"Enter Second Number \"))\n",
        "for i in range(1, max(num1, num2)):\n",
        "    if num1 % i == num2 % i == 0:\n",
        "        hcf = i\n",
        "print(f'HCF of {num1} and {num2} is {hcf}')"
      ],
      "metadata": {
        "colab": {
          "base_uri": "https://localhost:8080/"
        },
        "id": "M17OVLeS5_Zg",
        "outputId": "84eca692-d645-49e8-88d7-f36eb795d31e"
      },
      "execution_count": 15,
      "outputs": [
        {
          "output_type": "stream",
          "name": "stdout",
          "text": [
            "Enter First Number 5\n",
            "Enter Second Number 10\n",
            "HCF of 5 and 10 is 5\n"
          ]
        }
      ]
    },
    {
      "cell_type": "code",
      "source": [
        "# Question No 3"
      ],
      "metadata": {
        "id": "NaQiP49C6KFJ"
      },
      "execution_count": 6,
      "outputs": []
    },
    {
      "cell_type": "code",
      "source": [
        "num=int(input(\"Enter a Number \"))\n",
        "print(f'{num} converted to Binary is {bin(num)}')\n",
        "print(f'{num} converted to Binary is {oct(num)}')\n",
        "print(f'{num} converted to Binary is {hex(num)}')"
      ],
      "metadata": {
        "colab": {
          "base_uri": "https://localhost:8080/"
        },
        "id": "RD0Q6wvh65oT",
        "outputId": "597a5204-2490-4cc6-fb7f-8a9d57aaf79d"
      },
      "execution_count": 8,
      "outputs": [
        {
          "output_type": "stream",
          "name": "stdout",
          "text": [
            "Enter a Number 5\n",
            "5 converted to Binary is 0b101\n",
            "5 converted to Binary is 0o5\n",
            "5 converted to Binary is 0x5\n"
          ]
        }
      ]
    },
    {
      "cell_type": "code",
      "source": [
        "# Question No 4"
      ],
      "metadata": {
        "id": "0OBYN-hm7Ucg"
      },
      "execution_count": 13,
      "outputs": []
    },
    {
      "cell_type": "code",
      "source": [
        "char=input(\"Enter a Character :  \")\n",
        "print(f'Ascii Value of {char} is {ord(char)}')"
      ],
      "metadata": {
        "colab": {
          "base_uri": "https://localhost:8080/"
        },
        "id": "fYc1wsFn76lB",
        "outputId": "31c868fe-d750-4d14-971b-f47abab18f71"
      },
      "execution_count": 11,
      "outputs": [
        {
          "output_type": "stream",
          "name": "stdout",
          "text": [
            "Enter a Character :  A\n",
            "Ascii Value of A is 65\n"
          ]
        }
      ]
    },
    {
      "cell_type": "code",
      "source": [
        "# Question No 5"
      ],
      "metadata": {
        "id": "_E0zJf5F8BfW"
      },
      "execution_count": 12,
      "outputs": []
    },
    {
      "cell_type": "code",
      "source": [
        "num1 = int(input(\"Enter First Number  : \"))\n",
        "num2 = int(input(\"Enter Second Number : \"))\n",
        "x=int(input(\"Enter a Number to perform underlying opertaion : 1-Additon , 2-Subtraction , 3- Multiplication , 4-Division : \"))\n",
        "if(x==1):\n",
        "  print(f'Sum of {num1} and {num2} is {num1+num2}')\n",
        "elif(x==2):\n",
        "  if(num1>num2):\n",
        "    print(f'Difference of {num1} and {num2} is {num1-num2}')\n",
        "  else:\n",
        "    print(f'Difference of {num1} and {num2} is {num2-num1}')\n",
        "elif(x==3):\n",
        "  print(f'Product of {num1} and {num2} is {num1*num2}')\n",
        "elif(x==4):\n",
        "  print(f'Divison of {num1} by {num2} is {num1/num2}')\n",
        "else:\n",
        "  print(\"Oops You Entered a Wrong Number .. Please Enter a Vlaue from 1 to 4\")"
      ],
      "metadata": {
        "colab": {
          "base_uri": "https://localhost:8080/"
        },
        "id": "LAkzPKwA8w82",
        "outputId": "688531f4-0d46-4ed6-f6db-7edf36ace12c"
      },
      "execution_count": 18,
      "outputs": [
        {
          "output_type": "stream",
          "name": "stdout",
          "text": [
            "Enter First Number  : 5\n",
            "Enter Second Number : 10\n",
            "Enter a Number to perform underlying opertaion : 1-Additon , 2-Subtraction , 3- Multiplication , 4-Division : 2\n",
            "Difference of 5 and 10 is 5\n"
          ]
        }
      ]
    },
    {
      "cell_type": "code",
      "source": [],
      "metadata": {
        "id": "wCiy6hlI96bQ"
      },
      "execution_count": null,
      "outputs": []
    }
  ]
}