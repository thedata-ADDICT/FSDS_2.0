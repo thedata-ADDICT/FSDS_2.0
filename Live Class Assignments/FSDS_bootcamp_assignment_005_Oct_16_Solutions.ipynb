{
  "nbformat": 4,
  "nbformat_minor": 0,
  "metadata": {
    "colab": {
      "provenance": [],
      "collapsed_sections": []
    },
    "kernelspec": {
      "name": "python3",
      "display_name": "Python 3"
    },
    "language_info": {
      "name": "python"
    }
  },
  "cells": [
    {
      "cell_type": "markdown",
      "source": [
        "# Question 1"
      ],
      "metadata": {
        "id": "EWg-G0h2IwwK"
      }
    },
    {
      "cell_type": "code",
      "source": [
        "amazon_website = [(\"watch\", 5000), (\"phone\", 10000), (\"laptop\", 50000), (\"shirt\", 1000)]\n",
        "item=input(\"Enter the Item which you want to Buy : \").lower()\n",
        "QTY =int(input(\"Enter the Qty of Item you want to Buy ( Please Enter a value greater than 0 ) :  \"))\n",
        "l=[]\n",
        "for i in range(len(amazon_website)):\n",
        "  l.append(amazon_website[i][0])\n",
        "  if(amazon_website[i][0]==item):\n",
        "    price=amazon_website[i][1]\n",
        "if(item not in l):\n",
        "    print(f\" {item} is out of Stock \")\n",
        "else:\n",
        "    print(f'You need to pay a total of {QTY*price} for {QTY} {item}')"
      ],
      "metadata": {
        "colab": {
          "base_uri": "https://localhost:8080/"
        },
        "id": "ixhBgWfnI8Ox",
        "outputId": "88ee9c39-dde5-45bd-f5cc-5c4d01312715"
      },
      "execution_count": null,
      "outputs": [
        {
          "output_type": "stream",
          "name": "stdout",
          "text": [
            "Enter the Item which you want to Buy : PHONE\n",
            "Enter the Qty of Item you want to Buy ( Please Enter a value greater than 0 ) :  2\n",
            "You need to pay a total of 20000 for 2 phone\n"
          ]
        }
      ]
    },
    {
      "cell_type": "markdown",
      "source": [
        "# Question 2\n",
        "\n",
        "```\n",
        "arr = [1, 2, 3, 4, 5, 6]\n",
        "for i in range(1, 6):\n",
        "    arr[i - 1] = arr[i]\n",
        "for i in range(0, 6): \n",
        "    print(arr[i], end = \" \")\n",
        "```"
      ],
      "metadata": {
        "id": "po1Dk35KOHqL"
      }
    },
    {
      "cell_type": "markdown",
      "source": [
        "# Answer\n",
        "Array arr would be initalised as arr=[1,2,3,4,5,6] , and after 1st for loop\n",
        "the array would be modified as arr=[2,3,4,5,6,6] . This loop changes the value of array elements from index 0 to 4 and keeps the element at index 5 as it is .\n",
        "Hence when we output the final array we get our \n",
        "output as \n",
        "2 3 4 5 6 7 \n",
        "( Each element is outputed in a single line followed\n",
        "by psace as we have given it as our end character )"
      ],
      "metadata": {
        "id": "Pn2D14kNPxli"
      }
    },
    {
      "cell_type": "markdown",
      "source": [
        "# Question 3"
      ],
      "metadata": {
        "id": "MmcLnv3zklOm"
      }
    },
    {
      "cell_type": "code",
      "source": [
        "from collections import Counter\n",
        "t=(1,2,3,4,5,4,6,5)\n",
        "d=dict(Counter(t))\n",
        "for key in d.keys():\n",
        "  if(d[key]>1):\n",
        "    print(key)"
      ],
      "metadata": {
        "id": "LG1ECCpflv4H",
        "colab": {
          "base_uri": "https://localhost:8080/"
        },
        "outputId": "0b2e4afd-b643-4899-b11b-57aab3c416ce"
      },
      "execution_count": 17,
      "outputs": [
        {
          "output_type": "stream",
          "name": "stdout",
          "text": [
            "4\n",
            "5\n"
          ]
        }
      ]
    },
    {
      "cell_type": "markdown",
      "source": [
        "# Question 4"
      ],
      "metadata": {
        "id": "uJw5ZlXOlFNV"
      }
    },
    {
      "cell_type": "code",
      "source": [
        "l=[(10,20,30),(40,50,60),(70,80,90)]\n",
        "new_list=[]\n",
        "for i in l:\n",
        "  temp_list=list(i)\n",
        "  temp_list[-1]=500\n",
        "  new_list.append(tuple(temp_list))\n",
        "new_list"
      ],
      "metadata": {
        "id": "BK2fKQqxlOyo",
        "colab": {
          "base_uri": "https://localhost:8080/"
        },
        "outputId": "eed3d3f0-4df1-4f3f-bbb3-181725cc8b2d"
      },
      "execution_count": 22,
      "outputs": [
        {
          "output_type": "execute_result",
          "data": {
            "text/plain": [
              "[(10, 20, 500), (40, 50, 500), (70, 80, 500)]"
            ]
          },
          "metadata": {},
          "execution_count": 22
        }
      ]
    },
    {
      "cell_type": "code",
      "source": [],
      "metadata": {
        "id": "sYFTL1Cu8k3_"
      },
      "execution_count": null,
      "outputs": []
    }
  ]
}