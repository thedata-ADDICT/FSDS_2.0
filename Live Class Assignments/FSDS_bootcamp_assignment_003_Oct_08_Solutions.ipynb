{
  "nbformat": 4,
  "nbformat_minor": 0,
  "metadata": {
    "colab": {
      "provenance": [],
      "collapsed_sections": []
    },
    "kernelspec": {
      "name": "python3",
      "display_name": "Python 3"
    },
    "language_info": {
      "name": "python"
    }
  },
  "cells": [
    {
      "cell_type": "markdown",
      "source": [
        "# Question 1"
      ],
      "metadata": {
        "id": "dAQVA1NeC8ua"
      }
    },
    {
      "cell_type": "code",
      "execution_count": 20,
      "metadata": {
        "id": "8yQs1ap1kJ44",
        "colab": {
          "base_uri": "https://localhost:8080/"
        },
        "outputId": "9c34a1f9-e9f3-49cc-ee00-d53f9438f923"
      },
      "outputs": [
        {
          "output_type": "stream",
          "name": "stdout",
          "text": [
            "Number of Times iNeuron comes in the Text is 3\n",
            "---------------------------------------------------------\n"
          ]
        },
        {
          "output_type": "execute_result",
          "data": {
            "text/plain": [
              "3"
            ]
          },
          "metadata": {},
          "execution_count": 20
        }
      ],
      "source": [
        "# Method 1\n",
        "text = \"Welcome to iNeuron, You are a part of FSDS Bootcamp 2 in iNeuron. I hope you are enjoying the course by iNeuron\"\n",
        "s=text.replace(',','').replace('.','')\n",
        "l=s.split()\n",
        "c=0\n",
        "for i in l:\n",
        "  if(i=='iNeuron'):\n",
        "    c+=1\n",
        "print(f'Number of Times iNeuron comes in the Text is {c}')\n",
        "\n",
        "print(\"---------------------------------------------------------\") \n",
        "\n",
        "# Method 2\n",
        "text = \"Welcome to iNeuron, You are a part of FSDS Bootcamp 2 in iNeuron. I hope you are enjoying the course by iNeuron\"\n",
        "text.count(\"iNeuron\")"
      ]
    },
    {
      "cell_type": "markdown",
      "source": [
        "# Question 2"
      ],
      "metadata": {
        "id": "V9O-x-SFJeD0"
      }
    },
    {
      "cell_type": "code",
      "source": [
        "txt = \"Hello, welcome to FSDS 2.0 at iNeuron.\"\n",
        "txt1=txt[5:12].endswith(\"iNeuron\")\n",
        "if(txt1):\n",
        "  print(f\"The string '{txt}' ends with iNeuron \")\n",
        "else:\n",
        "  print(f\"The string '{txt}' does not ends with iNeuron \")"
      ],
      "metadata": {
        "colab": {
          "base_uri": "https://localhost:8080/"
        },
        "id": "XCDUNuFODOu-",
        "outputId": "0ad6a0f0-eec8-49c0-9d82-fcaccbe0c117"
      },
      "execution_count": 23,
      "outputs": [
        {
          "output_type": "stream",
          "name": "stdout",
          "text": [
            "The string 'Hello, welcome to FSDS 2.0 at iNeuron.' does not ends with iNeuron \n"
          ]
        }
      ]
    },
    {
      "cell_type": "markdown",
      "source": [
        "# Question 3"
      ],
      "metadata": {
        "id": "i9c2NsikVW9F"
      }
    },
    {
      "cell_type": "code",
      "source": [
        "name=input(\"Enter your name :\")\n",
        "fname,mname,lname=name.split(\" \")\n",
        "print(f\"\"\"\n",
        "Full_Name is {name}\n",
        "Abbrevated name is {fname[0:1]}.{mname[0:1]}.{lname}\n",
        "\"\"\")"
      ],
      "metadata": {
        "colab": {
          "base_uri": "https://localhost:8080/"
        },
        "id": "Qh8cFqfGJ9dv",
        "outputId": "16b78e6a-2c30-4b6b-8811-f1ffc662637b"
      },
      "execution_count": 27,
      "outputs": [
        {
          "output_type": "stream",
          "name": "stdout",
          "text": [
            "Enter your name :Sunny Bhaveen Chandra\n",
            "\n",
            "Full_Name is Sunny Bhaveen Chandra\n",
            "Abbrevated name is S.B.Chandra\n",
            "\n"
          ]
        }
      ]
    },
    {
      "cell_type": "markdown",
      "source": [
        "# Question 4"
      ],
      "metadata": {
        "id": "AvFYt3qoVwcS"
      }
    },
    {
      "cell_type": "code",
      "source": [
        "LIST = [\"My\", \"name\", \"is\", \"Rishav\", \"Dash\"]\n",
        "\"#\".join(LIST)"
      ],
      "metadata": {
        "colab": {
          "base_uri": "https://localhost:8080/",
          "height": 35
        },
        "id": "52Q1an-RVbEB",
        "outputId": "42223b6b-5ff1-4b97-9bc9-6e9969e9aca9"
      },
      "execution_count": 28,
      "outputs": [
        {
          "output_type": "execute_result",
          "data": {
            "text/plain": [
              "'My#name#is#Rishav#Dash'"
            ],
            "application/vnd.google.colaboratory.intrinsic+json": {
              "type": "string"
            }
          },
          "metadata": {},
          "execution_count": 28
        }
      ]
    },
    {
      "cell_type": "markdown",
      "source": [
        "# Question 5"
      ],
      "metadata": {
        "id": "Uv1Xb2wZV1rS"
      }
    },
    {
      "cell_type": "code",
      "source": [
        "#  isdecimal()\n",
        "\n",
        "num=input(\"Enter a number : \")\n",
        "if(num.isdecimal()):\n",
        "  print(f\"The number {num} is decimal number\")\n",
        "else:\n",
        "  print(f\"The number {num} is not a decimal number\")"
      ],
      "metadata": {
        "colab": {
          "base_uri": "https://localhost:8080/"
        },
        "id": "2UiU2xnHVzuS",
        "outputId": "aba35190-3a66-4db5-9662-79730d6d8fe8"
      },
      "execution_count": 31,
      "outputs": [
        {
          "output_type": "stream",
          "name": "stdout",
          "text": [
            "Enter a number : 12\n",
            "The number 12 is decimal number\n"
          ]
        }
      ]
    },
    {
      "cell_type": "code",
      "source": [
        "# - islower()\n",
        "# - isupper()\n",
        "# - isalpha()\n",
        "# - isnumeric()\n",
        "test_data=input(\"Enter a string : \")\n",
        "print(test_data.islower())\n",
        "print(test_data.isupper())\n",
        "print(test_data.isnumeric())\n",
        "print(test_data.isalpha())"
      ],
      "metadata": {
        "colab": {
          "base_uri": "https://localhost:8080/"
        },
        "id": "Xrf9N3O-WElV",
        "outputId": "4f2a9693-1984-4b29-c2f5-c6480474cc79"
      },
      "execution_count": 33,
      "outputs": [
        {
          "output_type": "stream",
          "name": "stdout",
          "text": [
            "Enter a string : kartik\n",
            "True\n",
            "False\n",
            "False\n",
            "True\n"
          ]
        }
      ]
    },
    {
      "cell_type": "markdown",
      "source": [
        "# Question 6"
      ],
      "metadata": {
        "id": "hKn7f7qaWovM"
      }
    },
    {
      "cell_type": "code",
      "source": [
        "pan_num=input(\"Enter pan card number : \")\n",
        "if(len(pan_num)==10):\n",
        "    if(pan_num[:5].isalpha() and pan_num[5:9].isnumeric() and pan_num[9].isalpha()):\n",
        "      print(f\"The pan card {pan_num} is valid\")\n",
        "    else:\n",
        "      print(\"Invalid pan card number\")\n",
        "else:\n",
        "    print(\"Entered PAN Card Value is Incomplete , PAN Card Should Contain 10 Characters\")"
      ],
      "metadata": {
        "colab": {
          "base_uri": "https://localhost:8080/"
        },
        "id": "X6Z5RpfkWfGG",
        "outputId": "59153da2-6f9f-4cf0-d403-c2a4612a1d22"
      },
      "execution_count": 36,
      "outputs": [
        {
          "output_type": "stream",
          "name": "stdout",
          "text": [
            "Enter pan card number : ABCDE1234F\n",
            "The pan card ABCDE1234F is valid\n"
          ]
        }
      ]
    }
  ]
}